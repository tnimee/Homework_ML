{
 "cells": [
  {
   "cell_type": "markdown",
   "metadata": {},
   "source": [
    "# Homework 1: Python Exercises"
   ]
  },
  {
   "cell_type": "markdown",
   "metadata": {},
   "source": [
    "## Dictionary"
   ]
  },
  {
   "cell_type": "markdown",
   "metadata": {},
   "source": [
    "#### Print the value of age of each key in the following nested dictionary"
   ]
  },
  {
   "cell_type": "code",
   "execution_count": 66,
   "metadata": {},
   "outputs": [
    {
     "name": "stdout",
     "output_type": "stream",
     "text": [
      "The age of person 1 is: 25\n",
      "The age of person 2 is: 21\n",
      "The age of person 2 is: 25\n",
      "The age of person 2 is: 21\n"
     ]
    }
   ],
   "source": [
    "people = {'person 1': {'DOB': 'June', 'age': '25', 'sex': 'M'},\n",
    "          'person 2': {'DOB': 'May', 'age': '21', 'sex': 'F'}}\n",
    "\n",
    "# print age of each key\n",
    "for key in people.keys():\n",
    "    print(f'The age of {key} is:', people [key] ['age'])\n",
    "\n",
    "# or \n",
    "for person in people.values():\n",
    "    print(f'The age of {key} is:', person['age'])\n",
    "    "
   ]
  },
  {
   "cell_type": "markdown",
   "metadata": {},
   "source": [
    "#### Add an element.\n",
    "- Add person 3 using people['person3']={}\n",
    "- Then set the age of 'person3' to be '29' and print the entire dictionary"
   ]
  },
  {
   "cell_type": "code",
   "execution_count": 67,
   "metadata": {
    "scrolled": false
   },
   "outputs": [
    {
     "name": "stdout",
     "output_type": "stream",
     "text": [
      "The age of person 1 is: 25\n",
      "The age of person 2 is: 21\n",
      "The age of person 3 is: 29\n"
     ]
    }
   ],
   "source": [
    "people = {'person 1': {'DOB': 'June', 'age': '25', 'sex': 'M'},\n",
    "          'person 2': {'DOB': 'May', 'age': '21', 'sex': 'F'}, 'person 3': {'DOB': 'July', 'age': '29','sex': 'F'}}\n",
    "\n",
    "# print age of each key\n",
    "for key in people.keys():\n",
    "    print(f'The age of {key} is:', people[key]['age'])\n",
    "    "
   ]
  },
  {
   "cell_type": "markdown",
   "metadata": {},
   "source": [
    "## Arrays"
   ]
  },
  {
   "cell_type": "markdown",
   "metadata": {},
   "source": [
    "#### Import package for array operations"
   ]
  },
  {
   "cell_type": "code",
   "execution_count": 68,
   "metadata": {},
   "outputs": [],
   "source": [
    "import numpy as np"
   ]
  },
  {
   "cell_type": "markdown",
   "metadata": {},
   "source": [
    "#### Enter the following matrices using ```np.array(...)```: \n",
    "$$D=\\begin{bmatrix} 6 & 1 & 3\\\\ 3 & 9 & -3\\\\ 9 & 3 & 4 \\end{bmatrix}$$ \n",
    "\n",
    "$$E=\\begin{bmatrix} 7 & 6\\\\ 4 & 2 \\end{bmatrix}$$ \n",
    "\n",
    "$$F=\\begin{bmatrix} 3 & 4\\\\ -9 & -3 \\end{bmatrix}$$\n"
   ]
  },
  {
   "cell_type": "code",
   "execution_count": 69,
   "metadata": {},
   "outputs": [
    {
     "name": "stdout",
     "output_type": "stream",
     "text": [
      "Matrix D:\n",
      " [[ 6  1  3]\n",
      " [ 3  9 -3]\n",
      " [ 9  3  4]]\n",
      "Matrix E:\n",
      " [[7 6]\n",
      " [4 2]]\n",
      "Matrix F:\n",
      " [[ 3  4]\n",
      " [-9 -3]]\n"
     ]
    }
   ],
   "source": [
    "\n",
    "D=np.array([[6,1,3],[3,9,-3],[9,3,4]])\n",
    "E=np.array([[7,6],[4,2]])\n",
    "F=np.array([[3,4],[-9,-3]])\n",
    "print(\"Matrix D:\\n\", D)\n",
    "print(\"Matrix E:\\n\", E)\n",
    "print(\"Matrix F:\\n\", F)"
   ]
  },
  {
   "cell_type": "markdown",
   "metadata": {},
   "source": [
    "#### Extract the following 2x2 matrix from $D$ : $\\begin{bmatrix} 9 & -3\\\\ 3 & 4 \\end{bmatrix}$ and assign it to $G$. \n",
    "Ref.: see the [Numpy documentation](https://docs.scipy.org/doc/numpy/user/quickstart.html)."
   ]
  },
  {
   "cell_type": "code",
   "execution_count": 70,
   "metadata": {},
   "outputs": [
    {
     "name": "stdout",
     "output_type": "stream",
     "text": [
      "Matrix G:\n",
      " [[ 9 -3]\n",
      " [ 3  4]]\n"
     ]
    }
   ],
   "source": [
    "# hint\n",
    "# using the colon notation, for example, D[:2, :2], to select desired submatrix\n",
    "G=D[1:, 1:]\n",
    "print (\"Matrix G:\\n\", G)"
   ]
  },
  {
   "cell_type": "code",
   "execution_count": null,
   "metadata": {},
   "outputs": [],
   "source": []
  },
  {
   "cell_type": "code",
   "execution_count": null,
   "metadata": {},
   "outputs": [],
   "source": []
  },
  {
   "cell_type": "markdown",
   "metadata": {},
   "source": [
    "#### Find the column-wise sum of the elements in Matrix $D$ using [np.sum](https://numpy.org/doc/stable/reference/generated/numpy.mean.html)."
   ]
  },
  {
   "cell_type": "code",
   "execution_count": 71,
   "metadata": {},
   "outputs": [
    {
     "name": "stdout",
     "output_type": "stream",
     "text": [
      "Sum of each elements in the first column of Matrix D: 18\n",
      "Sum of each elements in the second column of Matrix D: 13\n",
      "Sum of each elements in the third column of Matrix D: 4\n"
     ]
    }
   ],
   "source": [
    "\n",
    "sumC1=np.sum(D[:,0])\n",
    "sumC2=np.sum(D[:,1])\n",
    "sumC3=np.sum(D[:,2])\n",
    "print(\"Sum of each elements in the first column of Matrix D:\", sumC1)\n",
    "print(\"Sum of each elements in the second column of Matrix D:\", sumC2)\n",
    "print(\"Sum of each elements in the third column of Matrix D:\", sumC3)\n",
    "\n",
    "\n"
   ]
  },
  {
   "cell_type": "markdown",
   "metadata": {},
   "source": [
    "#### Find the row-wise mean of the elements in Matrix $D$ using [np.mean](https://numpy.org/doc/stable/reference/generated/numpy.sum.html)."
   ]
  },
  {
   "cell_type": "code",
   "execution_count": 72,
   "metadata": {},
   "outputs": [
    {
     "name": "stdout",
     "output_type": "stream",
     "text": [
      "Mean of each elements in the first row of Matrix D: 3.3333333333333335\n",
      "Mean of each elements in the second row of Matrix D: 3.0\n",
      "Mean of each elements in the third row of Matrix D: 5.333333333333333\n"
     ]
    }
   ],
   "source": [
    "\n",
    "meanR1=np.mean(D[0,:])\n",
    "meanR2=np.mean(D[1,:])\n",
    "meanR3=np.mean(D[2,:])\n",
    "print(\"Mean of each elements in the first row of Matrix D:\", meanR1)\n",
    "print(\"Mean of each elements in the second row of Matrix D:\", meanR2)\n",
    "print(\"Mean of each elements in the third row of Matrix D:\", meanR3)"
   ]
  },
  {
   "cell_type": "markdown",
   "metadata": {},
   "source": [
    "#### Create a $5 \\times 5$ matrix, $J$, which is consisted of standard normal random numbers using [np.random.normal](https://numpy.org/doc/stable/reference/random/generated/numpy.random.normal.html)."
   ]
  },
  {
   "cell_type": "code",
   "execution_count": 73,
   "metadata": {},
   "outputs": [
    {
     "name": "stdout",
     "output_type": "stream",
     "text": [
      "Matrix J:\n",
      " [[ 1.62434536 -0.61175641 -0.52817175 -1.07296862  0.86540763]\n",
      " [-2.3015387   1.74481176 -0.7612069   0.3190391  -0.24937038]\n",
      " [ 1.46210794 -2.06014071 -0.3224172  -0.38405435  1.13376944]\n",
      " [-1.09989127 -0.17242821 -0.87785842  0.04221375  0.58281521]\n",
      " [-1.10061918  1.14472371  0.90159072  0.50249434  0.90085595]]\n"
     ]
    }
   ],
   "source": [
    "# hint\n",
    "# example of generate a $2\\times2$ matrix of random numbers from $N(2,3)$.\n",
    "# np.random.seed(1)    # Please use random see 1 to ensure reproducibility\n",
    "# np.random.normal(loc=2, scale=3, size=(2,2))\n",
    "np.random.seed(1)\n",
    "J=np.random.normal(loc=0, scale=1, size=(5,5))\n",
    "print(\"Matrix J:\\n\", J)\n"
   ]
  },
  {
   "cell_type": "markdown",
   "metadata": {},
   "source": [
    "#### Compute a new matrix $J$ from $H$, where 1) The negative numbers are replaced by their absolute value, and 2) The positive elements are replaced by 10.\n",
    "- Use a ```for``` loop to iterate over each (i, j) index pair.\n",
    "- Use np.where"
   ]
  },
  {
   "cell_type": "code",
   "execution_count": 74,
   "metadata": {},
   "outputs": [
    {
     "name": "stdout",
     "output_type": "stream",
     "text": [
      "J:\n",
      " [[10.          0.61175641  0.52817175  1.07296862 10.        ]\n",
      " [ 2.3015387  10.          0.7612069  10.          0.24937038]\n",
      " [10.          2.06014071  0.3224172   0.38405435 10.        ]\n",
      " [ 1.09989127  0.17242821  0.87785842 10.         10.        ]\n",
      " [ 1.10061918 10.         10.         10.         10.        ]]\n"
     ]
    }
   ],
   "source": [
    "np.random.seed(1)\n",
    "J=np.random.normal(loc=0, scale=1, size=(5,5))\n",
    "H = J.copy()\n",
    "\n",
    "# 1. Use for loop\n",
    "len_H = len(H)\n",
    "for i in range(len_H):\n",
    "    for j in range(len_H):\n",
    "        if H[i][j] > 0:\n",
    "            J[i][j] = 10\n",
    "        elif H[i][j] < 0 :\n",
    "            J[i][j] = abs(H[i][j]) \n",
    "\n",
    "print('J:\\n', J)\n",
    "\n",
    "\n",
    "\n"
   ]
  },
  {
   "cell_type": "code",
   "execution_count": 75,
   "metadata": {},
   "outputs": [
    {
     "name": "stdout",
     "output_type": "stream",
     "text": [
      "J:\n",
      " [[10.          0.61175641  0.52817175  1.07296862 10.        ]\n",
      " [ 2.3015387  10.          0.7612069  10.          0.24937038]\n",
      " [10.          2.06014071  0.3224172   0.38405435 10.        ]\n",
      " [ 1.09989127  0.17242821  0.87785842 10.         10.        ]\n",
      " [ 1.10061918 10.         10.         10.         10.        ]]\n"
     ]
    }
   ],
   "source": [
    "# 2. Use np.where loop\n",
    "# hint for calculating absolute values using np.abs(): np.abs(-3) = 3\n",
    "np.random.seed(1)\n",
    "J=np.random.normal(loc=0, scale=1, size=(5,5))\n",
    "H = J.copy()\n",
    "J= np.where(H<=0, np.abs(H), 10)\n",
    "print('J:\\n', J)\n",
    "\n"
   ]
  },
  {
   "cell_type": "markdown",
   "metadata": {},
   "source": [
    "#### Create a result array by adding the following two NumPy arrays. \n",
    "#### Then modify the result array by calculating the square root of each element using np.sqrt(). Name the new resultant array 'array3'."
   ]
  },
  {
   "cell_type": "code",
   "execution_count": 76,
   "metadata": {},
   "outputs": [
    {
     "name": "stdout",
     "output_type": "stream",
     "text": [
      "Sum of array1 and array2:\n",
      " [[20 39 33]\n",
      " [25 25 35]]\n",
      "The resultant array:\n",
      " [[4.47213595 6.244998   5.74456265]\n",
      " [5.         5.         5.91607978]]\n"
     ]
    }
   ],
   "source": [
    "array1 = np.array([[5, 6, 9], [21 ,18, 27]])\n",
    "array2 = np.array([[15 ,33, 24], [4 ,7, 8]])\n",
    "\n",
    "# add two arrays array3 = \n",
    "sum_array=array1+array2\n",
    "print(\"Sum of array1 and array2:\\n\", sum_array)\n",
    "\n",
    "# calculate the square root\n",
    "array3 = np.sqrt(sum_array)\n",
    "print(\"The resultant array:\\n\", array3)"
   ]
  },
  {
   "cell_type": "markdown",
   "metadata": {},
   "source": [
    "#### find the index of the largest element in each row of array3 using [numpy.argmax](https://numpy.org/doc/stable/reference/generated/numpy.argmax.html)"
   ]
  },
  {
   "cell_type": "code",
   "execution_count": 77,
   "metadata": {},
   "outputs": [
    {
     "name": "stdout",
     "output_type": "stream",
     "text": [
      "The index of the maximum value in the first row of array3: 1\n",
      "The index of the maximum value in the second row of array3: 2\n"
     ]
    }
   ],
   "source": [
    "array3_maxindex1=np.argmax(array3[0,:])\n",
    "array3_maxindex2=np.argmax(array3[1,:])\n",
    "print(\"The index of the maximum value in the first row of array3:\", array3_maxindex1)\n",
    "print(\"The index of the maximum value in the second row of array3:\", array3_maxindex2)\n"
   ]
  },
  {
   "cell_type": "markdown",
   "metadata": {},
   "source": [
    "## Comprehension"
   ]
  },
  {
   "cell_type": "markdown",
   "metadata": {},
   "source": [
    "#### Produce a new list name 'H_list' by flattening $H$ into a 1d array and convert it to a list\n",
    "Hint: Use [numpy.ndarray.flatten](https://numpy.org/doc/stable/reference/generated/numpy.ndarray.flatten.html) as well as\n",
    "[numpy.ndarray.tolist](https://numpy.org/doc/stable/reference/generated/numpy.ndarray.tolist.html)."
   ]
  },
  {
   "cell_type": "code",
   "execution_count": 78,
   "metadata": {},
   "outputs": [
    {
     "name": "stdout",
     "output_type": "stream",
     "text": [
      "H_list:\n",
      " [1.6243453636632417, -0.6117564136500754, -0.5281717522634557, -1.0729686221561705, 0.8654076293246785, -2.3015386968802827, 1.74481176421648, -0.7612069008951028, 0.31903909605709857, -0.2493703754774101, 1.462107937044974, -2.060140709497654, -0.3224172040135075, -0.38405435466841564, 1.1337694423354374, -1.0998912673140309, -0.17242820755043575, -0.8778584179213718, 0.04221374671559283, 0.5828152137158222, -1.1006191772129212, 1.1447237098396141, 0.9015907205927955, 0.5024943389018682, 0.9008559492644118]\n"
     ]
    }
   ],
   "source": [
    "import numpy as np\n",
    "\n",
    "# generate H\n",
    "np.random.seed(1) \n",
    "H = np.random.normal(loc=0, scale=1, size=(5,5)) # loc and scale can be ignored if it is standard normal distribution\n",
    "\n",
    "# flatten and convert\n",
    "H_list = H.flatten().tolist()\n",
    "\n",
    "\n",
    "# print\n",
    "print('H_list:\\n', H_list)"
   ]
  },
  {
   "cell_type": "markdown",
   "metadata": {},
   "source": [
    "#### Use list comprehension to modify 'H_list' as follows: 1) replace negative number by their absolute value, and 2) replace positive numbers by 10. Return 'H_list_new' after all operations.\n",
    "Hint: use 'if else' within list comprehension. Check out this [reference](https://stackoverflow.com/questions/4406389/if-else-in-a-list-comprehension)."
   ]
  },
  {
   "cell_type": "code",
   "execution_count": 79,
   "metadata": {},
   "outputs": [
    {
     "name": "stdout",
     "output_type": "stream",
     "text": [
      "H_list_new:\n",
      " [10, 0.6117564136500754, 0.5281717522634557, 1.0729686221561705, 10, 2.3015386968802827, 10, 0.7612069008951028, 10, 0.2493703754774101, 10, 2.060140709497654, 0.3224172040135075, 0.38405435466841564, 10, 1.0998912673140309, 0.17242820755043575, 0.8778584179213718, 10, 10, 1.1006191772129212, 10, 10, 10, 10]\n"
     ]
    }
   ],
   "source": [
    "\n",
    "np.random.seed(1) \n",
    "H = np.random.normal(loc=0, scale=1, size=(5,5)) # loc and scale can be ignored if it is standard normal distribution\n",
    "\n",
    "H_list = H.flatten().tolist()\n",
    "\n",
    "H_list_new = H_list\n",
    "for i in range(len(H_list)):\n",
    "    if H_list[i] > 0:\n",
    "        H_list_new[i] = 10\n",
    "    elif H_list[i] < 0:\n",
    "        H_list_new[i] = abs(H_list[i])\n",
    "print('H_list_new:\\n', H_list_new)\n"
   ]
  },
  {
   "cell_type": "markdown",
   "metadata": {},
   "source": [
    "#### Use zip and comprehension to create a dictionary named 'uta_dict' where the keys are list_a and the values are list_b. "
   ]
  },
  {
   "cell_type": "code",
   "execution_count": 80,
   "metadata": {},
   "outputs": [
    {
     "name": "stdout",
     "output_type": "stream",
     "text": [
      "{'Country': 'USA', 'State': 'Texas', 'School': 'UTA'}\n"
     ]
    }
   ],
   "source": [
    "# create lists\n",
    "\n",
    "list_a = ['Country', 'State', 'School']\n",
    "list_b = ['USA', 'Texas', 'UTA']\n",
    "\n",
    "# Create a dictionary using zip and comprehension\n",
    "uta_dict = {key: value for key, value in zip(list_a, list_b)}\n",
    "\n",
    "print(uta_dict)\n",
    "\n"
   ]
  },
  {
   "cell_type": "markdown",
   "metadata": {},
   "source": [
    "#### Keep elements in list_a that has 'S' in it using list comprehension."
   ]
  },
  {
   "cell_type": "code",
   "execution_count": 81,
   "metadata": {
    "scrolled": true
   },
   "outputs": [
    {
     "name": "stdout",
     "output_type": "stream",
     "text": [
      "['State', 'School']\n"
     ]
    }
   ],
   "source": [
    "# hint: use if condition, if 'S' in , after the for loop in the list comprehension\n",
    "# Create list_a\n",
    "list_a = ['Country', 'State', 'School']\n",
    "filtered_list = [item for item in list_a if 'S' in item]\n",
    "\n",
    "print(filtered_list)\n"
   ]
  },
  {
   "cell_type": "markdown",
   "metadata": {},
   "source": [
    "## Functions"
   ]
  },
  {
   "cell_type": "markdown",
   "metadata": {},
   "source": [
    "#### Write a function ```sum_square(n)``` that takes as input $n$ and returns $y$, where $$y=\\left(1+2^{2}+\\cdots+n^{2}\\right)=\\sum_{k=1}^{n}k^{2}$$\n",
    "- Use for loop\n",
    "- Use np.sum()"
   ]
  },
  {
   "cell_type": "code",
   "execution_count": 82,
   "metadata": {},
   "outputs": [],
   "source": [
    "# using a for loop\n",
    "def sum_square_for(n):\n",
    "    y = 0\n",
    "    for i in range(n+1):\n",
    "        y += i**2\n",
    "    return y"
   ]
  },
  {
   "cell_type": "code",
   "execution_count": 83,
   "metadata": {},
   "outputs": [],
   "source": [
    "# using np.sum()\n",
    "\n",
    "def sum_square_np(n):\n",
    "    y = np.sum(np.arange(1, n+1) ** 2)\n",
    "    return y\n"
   ]
  },
  {
   "cell_type": "markdown",
   "metadata": {},
   "source": [
    "## Plots\n",
    "\n",
    "- Plot $sin(x)$ and $sec(x)$ between $-3\\pi$ and $3\\pi$ on the same graph, using different colors, line styles, and markers for the two curves. \n",
    "- Include a legend to distinguish between the two curves. \n",
    "- Add $x$ and $y$ labels, and a title to the plot. \n",
    "- You will probably need to use the function ```ylim```, which set the range of $y$ values, to enhance the readability of your plot.\n",
    "- save the plot as a pdf (dpi=250; tight layout) to the a neighboring folder named 'plot_folder'. Relative path should be used. Hint: the path looks something like './plot_folder/{plot_name}.pdf'\n",
    "\n",
    "For those who are interested, here is an article about [making publication quality plot using Python](https://github.com/jbmouret/matplotlib_for_papers)."
   ]
  },
  {
   "cell_type": "code",
   "execution_count": 84,
   "metadata": {},
   "outputs": [],
   "source": [
    "# import necessary packages\n",
    "import numpy as np\n",
    "import matplotlib.pyplot as plt\n"
   ]
  },
  {
   "cell_type": "code",
   "execution_count": 85,
   "metadata": {},
   "outputs": [
    {
     "data": {
      "image/png": "[encoded data removed]",
      "text/plain": [
       "<Figure size 800x600 with 1 Axes>"
      ]
     },
     "metadata": {},
     "output_type": "display_data"
    }
   ],
   "source": [
    "# make and format plot\n",
    "x = np.linspace(-3 * np.pi, 3 * np.pi, 1000)\n",
    "y_sin = np.sin(x)\n",
    "y_sec = 1 / np.cos(x)\n",
    "plt.figure(figsize=(8, 6))\n",
    "plt.plot(x, y_sin, color='blue', linestyle='-', marker='o', label=r'sin(x)')\n",
    "plt.plot(x, y_sec, color='black', linestyle='--', marker='s', label=r'sec(x)')\n",
    "plt.ylim(-10, 10)\n",
    "plt.xlabel(r'$x$')\n",
    "plt.ylabel(r'$y$')\n",
    "plt.title(r'Plot of sin(x) and sec(x) between $-3\\pi$ and $3\\pi$')\n",
    "plt.legend()\n",
    "plt.savefig('./plot_folder/sin_sec_plot.pdf', dpi=250)\n",
    "\n",
    "plt.show()"
   ]
  },
  {
   "cell_type": "markdown",
   "metadata": {},
   "source": [
    "## Importing Data"
   ]
  },
  {
   "cell_type": "markdown",
   "metadata": {},
   "source": [
    "#### Load the data from the Excel file ```taxi.csv```. \n",
    "CSV is a plain text format in which values are separated by commas.\n",
    "Then print the top 5 rows and colum names"
   ]
  },
  {
   "cell_type": "code",
   "execution_count": 86,
   "metadata": {
    "scrolled": true
   },
   "outputs": [
    {
     "name": "stdout",
     "output_type": "stream",
     "text": [
      "    medallion  hack_license vendor_id pickup_datetime dropoff_datetime  \\\n",
      "0  2010000001    2010000001       VTS   1/1/2010 0:00    1/1/2010 0:34   \n",
      "1  2010000002    2010000002       VTS   1/1/2010 0:00    1/1/2010 0:33   \n",
      "2  2010000003    2010000003       VTS   1/1/2010 0:00    1/1/2010 0:07   \n",
      "3  2010000004    2010000004       VTS   1/1/2010 0:00    1/1/2010 0:33   \n",
      "4  2010000005    2010000005       VTS   1/1/2010 0:00    1/1/2010 0:28   \n",
      "\n",
      "   passenger_count  trip_time_in_secs  trip_distance  \n",
      "0                1               34.0          14.05  \n",
      "1                1               33.0           9.65  \n",
      "2                1                7.0           1.63  \n",
      "3                1               33.0          26.61  \n",
      "4                2               28.0           3.15  \n"
     ]
    }
   ],
   "source": [
    "# import pandas\n",
    "import pandas as pd\n",
    "\n",
    "# import the data using relative path/directory\n",
    "data = pd.read_csv('taxi.csv')\n",
    "\n",
    "# print top 5 rows\n",
    "\n",
    "print(data.head())\n",
    "\n"
   ]
  },
  {
   "cell_type": "code",
   "execution_count": 87,
   "metadata": {},
   "outputs": [
    {
     "name": "stdout",
     "output_type": "stream",
     "text": [
      "Index(['medallion', 'hack_license', 'vendor_id', 'pickup_datetime',\n",
      "       'dropoff_datetime', 'passenger_count', 'trip_time_in_secs',\n",
      "       'trip_distance'],\n",
      "      dtype='object')\n"
     ]
    }
   ],
   "source": [
    "# print column names\n",
    "print(data.columns)\n"
   ]
  },
  {
   "cell_type": "markdown",
   "metadata": {},
   "source": [
    "#### Now compute the average passenger count, average trip time in seconds, and the average trip distance. You may change the columns to lists and do the computation or you may explore the [Pandas documentation](http://pandas.pydata.org/pandas-docs/stable/10min.html) for native functionality."
   ]
  },
  {
   "cell_type": "code",
   "execution_count": 88,
   "metadata": {},
   "outputs": [
    {
     "name": "stdout",
     "output_type": "stream",
     "text": [
      "0       VTS\n",
      "1       VTS\n",
      "2       VTS\n",
      "3       VTS\n",
      "4       VTS\n",
      "       ... \n",
      "2994    VTS\n",
      "2995    VTS\n",
      "2996    VTS\n",
      "2997    VTS\n",
      "2998    VTS\n",
      "Name: vendor_id, Length: 2999, dtype: object\n",
      "['VTS', 'VTS', 'VTS', 'VTS', 'VTS', 'VTS', 'VTS', 'VTS', 'CMT', 'CMT', 'CMT', 'CMT', 'DDS', 'CMT', 'CMT', 'CMT', 'CMT', 'CMT', 'CMT', 'CMT', 'CMT', 'VTS', 'CMT', 'CMT', 'VTS', 'CMT', 'CMT', 'CMT', 'CMT', 'CMT', 'CMT', 'CMT', 'CMT', 'CMT', 'CMT', 'CMT', 'DDS', 'CMT', 'CMT', 'CMT', 'CMT', 'CMT', 'CMT', 'CMT', 'CMT', 'CMT', 'CMT', 'DDS', 'CMT', 'CMT', 'CMT', 'CMT', 'CMT', 'CMT', 'CMT', 'CMT', 'CMT', 'CMT', 'CMT', 'DDS', 'CMT', 'CMT', 'CMT', 'CMT', 'CMT', 'CMT', 'CMT', 'VTS', 'CMT', 'VTS', 'VTS', 'VTS', 'VTS', 'VTS', 'VTS', 'VTS', 'VTS', 'VTS', 'VTS', 'VTS', 'VTS', 'CMT', 'CMT', 'CMT', 'DDS', 'CMT', 'CMT', 'CMT', 'CMT', 'VTS', 'VTS', 'CMT', 'CMT', 'DDS', 'CMT', 'CMT', 'CMT', 'CMT', 'CMT', 'CMT', 'CMT', 'CMT', 'CMT', 'CMT', 'CMT', 'CMT', 'VTS', 'CMT', 'DDS', 'CMT', 'CMT', 'CMT', 'CMT', 'CMT', 'CMT', 'CMT', 'CMT', 'CMT', 'CMT', 'CMT', 'CMT', 'CMT', 'CMT', 'VTS', 'CMT', 'CMT', 'CMT', 'CMT', 'DDS', 'CMT', 'CMT', 'CMT', 'DDS', 'DDS', 'CMT', 'CMT', 'CMT', 'DDS', 'CMT', 'CMT', 'CMT', 'CMT', 'CMT', 'CMT', 'CMT', 'CMT', 'CMT', 'VTS', 'CMT', 'CMT', 'CMT', 'VTS', 'CMT', 'CMT', 'CMT', 'CMT', 'CMT', 'CMT', 'CMT', 'DDS', 'CMT', 'DDS', 'CMT', 'CMT', 'CMT', 'VTS', 'VTS', 'VTS', 'VTS', 'VTS', 'VTS', 'CMT', 'VTS', 'VTS', 'VTS', 'VTS', 'VTS', 'CMT', 'CMT', 'CMT', 'CMT', 'DDS', 'CMT', 'DDS', 'CMT', 'CMT', 'CMT', 'CMT', 'CMT', 'CMT', 'DDS', 'CMT', 'CMT', 'CMT', 'CMT', 'CMT', 'CMT', 'CMT', 'CMT', 'CMT', 'CMT', 'CMT', 'DDS', 'CMT', 'CMT', 'CMT', 'DDS', 'CMT', 'CMT', 'CMT', 'CMT', 'CMT', 'CMT', 'CMT', 'CMT', 'DDS', 'CMT', 'CMT', 'CMT', 'CMT', 'CMT', 'CMT', 'CMT', 'CMT', 'VTS', 'CMT', 'CMT', 'CMT', 'CMT', 'CMT', 'CMT', 'CMT', 'CMT', 'CMT', 'CMT', 'CMT', 'CMT', 'CMT', 'CMT', 'CMT', 'CMT', 'CMT', 'CMT', 'DDS', 'CMT', 'CMT', 'CMT', 'CMT', 'CMT', 'CMT', 'VTS', 'CMT', 'CMT', 'DDS', 'CMT', 'CMT', 'VTS', 'VTS', 'VTS', 'VTS', 'VTS', 'VTS', 'VTS', 'VTS', 'VTS', 'VTS', 'CMT', 'VTS', 'VTS', 'CMT', 'VTS', 'VTS', 'CMT', 'CMT', 'CMT', 'CMT', 'CMT', 'CMT', 'CMT', 'DDS', 'CMT', 'CMT', 'CMT', 'DDS', 'DDS', 'CMT', 'CMT', 'VTS', 'CMT', 'CMT', 'DDS', 'CMT', 'CMT', 'CMT', 'CMT', 'CMT', 'CMT', 'CMT', 'CMT', 'VTS', 'CMT', 'CMT', 'CMT', 'DDS', 'CMT', 'CMT', 'CMT', 'CMT', 'CMT', 'CMT', 'CMT', 'CMT', 'DDS', 'CMT', 'CMT', 'CMT', 'CMT', 'CMT', 'CMT', 'CMT', 'CMT', 'CMT', 'CMT', 'CMT', 'CMT', 'CMT', 'DDS', 'CMT', 'CMT', 'DDS', 'CMT', 'CMT', 'CMT', 'CMT', 'CMT', 'CMT', 'CMT', 'CMT', 'CMT', 'CMT', 'CMT', 'DDS', 'CMT', 'CMT', 'CMT', 'CMT', 'CMT', 'VTS', 'CMT', 'CMT', 'VTS', 'CMT', 'CMT', 'CMT', 'CMT', 'CMT', 'CMT', 'CMT', 'CMT', 'CMT', 'CMT', 'DDS', 'CMT', 'CMT', 'CMT', 'CMT', 'CMT', 'CMT', 'CMT', 'CMT', 'CMT', 'CMT', 'CMT', 'VTS', 'VTS', 'VTS', 'VTS', 'VTS', 'VTS', 'VTS', 'CMT', 'VTS', 'VTS', 'VTS', 'VTS', 'VTS', 'VTS', 'VTS', 'VTS', 'CMT', 'VTS', 'VTS', 'VTS', 'VTS', 'VTS', 'VTS', 'DDS', 'CMT', 'DDS', 'CMT', 'VTS', 'CMT', 'DDS', 'CMT', 'CMT', 'CMT', 'VTS', 'CMT', 'VTS', 'DDS', 'VTS', 'CMT', 'VTS', 'CMT', 'CMT', 'CMT', 'CMT', 'CMT', 'CMT', 'CMT', 'CMT', 'DDS', 'CMT', 'CMT', 'CMT', 'CMT', 'CMT', 'CMT', 'CMT', 'CMT', 'DDS', 'CMT', 'CMT', 'CMT', 'CMT', 'CMT', 'CMT', 'CMT', 'VTS', 'CMT', 'CMT', 'CMT', 'CMT', 'CMT', 'DDS', 'CMT', 'CMT', 'CMT', 'CMT', 'CMT', 'DDS', 'CMT', 'CMT', 'CMT', 'CMT', 'CMT', 'CMT', 'CMT', 'CMT', 'CMT', 'CMT', 'VTS', 'CMT', 'CMT', 'CMT', 'CMT', 'CMT', 'CMT', 'CMT', 'CMT', 'CMT', 'CMT', 'CMT', 'CMT', 'VTS', 'CMT', 'CMT', 'CMT', 'CMT', 'CMT', 'CMT', 'CMT', 'DDS', 'CMT', 'CMT', 'CMT', 'CMT', 'CMT', 'CMT', 'CMT', 'CMT', 'CMT', 'CMT', 'CMT', 'CMT', 'CMT', 'VTS', 'CMT', 'CMT', 'CMT', 'CMT', 'CMT', 'CMT', 'DDS', 'CMT', 'VTS', 'CMT', 'CMT', 'CMT', 'CMT', 'CMT', 'CMT', 'CMT', 'CMT', 'CMT', 'CMT', 'CMT', 'CMT', 'CMT', 'CMT', 'CMT', 'CMT', 'VTS', 'CMT', 'VTS', 'VTS', 'VTS', 'VTS', 'VTS', 'VTS', 'VTS', 'VTS', 'VTS', 'VTS', 'VTS', 'VTS', 'VTS', 'VTS', 'VTS', 'VTS', 'CMT', 'CMT', 'CMT', 'CMT', 'CMT', 'CMT', 'CMT', 'CMT', 'DDS', 'CMT', 'CMT', 'CMT', 'CMT', 'VTS', 'DDS', 'CMT', 'CMT', 'CMT', 'CMT', 'CMT', 'CMT', 'CMT', 'VTS', 'VTS', 'CMT', 'VTS', 'CMT', 'CMT', 'CMT', 'CMT', 'CMT', 'CMT', 'CMT', 'VTS', 'CMT', 'CMT', 'CMT', 'VTS', 'CMT', 'CMT', 'CMT', 'CMT', 'CMT', 'CMT', 'CMT', 'CMT', 'CMT', 'CMT', 'CMT', 'CMT', 'DDS', 'CMT', 'CMT', 'CMT', 'CMT', 'CMT', 'CMT', 'DDS', 'CMT', 'CMT', 'CMT', 'CMT', 'CMT', 'CMT', 'VTS', 'DDS', 'CMT', 'CMT', 'VTS', 'CMT', 'CMT', 'CMT', 'DDS', 'DDS', 'DDS', 'CMT', 'CMT', 'CMT', 'DDS', 'CMT', 'CMT', 'CMT', 'CMT', 'CMT', 'DDS', 'CMT', 'CMT', 'VTS', 'VTS', 'CMT', 'CMT', 'CMT', 'CMT', 'CMT', 'CMT', 'CMT', 'CMT', 'VTS', 'CMT', 'VTS', 'CMT', 'DDS', 'CMT', 'DDS', 'CMT', 'CMT', 'VTS', 'CMT', 'CMT', 'CMT', 'CMT', 'VTS', 'DDS', 'VTS', 'VTS', 'CMT', 'CMT', 'CMT', 'VTS', 'CMT', 'VTS', 'DDS', 'VTS', 'DDS', 'CMT', 'CMT', 'CMT', 'CMT', 'VTS', 'VTS', 'VTS', 'VTS', 'VTS', 'VTS', 'VTS', 'VTS', 'VTS', 'VTS', 'VTS', 'VTS', 'VTS', 'VTS', 'VTS', 'VTS', 'VTS', 'VTS', 'CMT', 'VTS', 'VTS', 'VTS', 'VTS', 'VTS', 'VTS', 'VTS', 'VTS', 'VTS', 'VTS', 'VTS', 'CMT', 'VTS', 'CMT', 'CMT', 'CMT', 'CMT', 'DDS', 'VTS', 'VTS', 'VTS', 'CMT', 'CMT', 'CMT', 'DDS', 'CMT', 'CMT', 'CMT', 'CMT', 'CMT', 'CMT', 'DDS', 'CMT', 'DDS', 'CMT', 'CMT', 'CMT', 'CMT', 'CMT', 'VTS', 'CMT', 'CMT', 'CMT', 'DDS', 'CMT', 'DDS', 'DDS', 'CMT', 'CMT', 'CMT', 'CMT', 'CMT', 'CMT', 'CMT', 'CMT', 'CMT', 'CMT', 'DDS', 'CMT', 'CMT', 'CMT', 'CMT', 'VTS', 'CMT', 'CMT', 'CMT', 'CMT', 'CMT', 'DDS', 'CMT', 'VTS', 'CMT', 'DDS', 'CMT', 'CMT', 'CMT', 'CMT', 'CMT', 'VTS', 'CMT', 'CMT', 'CMT', 'CMT', 'CMT', 'CMT', 'CMT', 'CMT', 'VTS', 'CMT', 'CMT', 'DDS', 'CMT', 'CMT', 'CMT', 'CMT', 'CMT', 'CMT', 'CMT', 'CMT', 'DDS', 'VTS', 'CMT', 'CMT', 'CMT', 'CMT', 'CMT', 'CMT', 'CMT', 'CMT', 'CMT', 'DDS', 'CMT', 'CMT', 'CMT', 'CMT', 'CMT', 'CMT', 'CMT', 'CMT', 'CMT', 'CMT', 'DDS', 'CMT', 'CMT', 'DDS', 'CMT', 'CMT', 'VTS', 'CMT', 'CMT', 'CMT', 'CMT', 'CMT', 'VTS', 'CMT', 'CMT', 'CMT', 'VTS', 'DDS', 'CMT', 'CMT', 'CMT', 'CMT', 'DDS', 'CMT', 'DDS', 'CMT', 'VTS', 'CMT', 'CMT', 'CMT', 'CMT', 'CMT', 'VTS', 'CMT', 'VTS', 'VTS', 'VTS', 'VTS', 'VTS', 'VTS', 'VTS', 'VTS', 'VTS', 'VTS', 'VTS', 'VTS', 'VTS', 'VTS', 'VTS', 'CMT', 'VTS', 'VTS', 'VTS', 'VTS', 'VTS', 'VTS', 'VTS', 'VTS', 'VTS', 'VTS', 'VTS', 'VTS', 'VTS', 'CMT', 'VTS', 'CMT', 'VTS', 'CMT', 'VTS', 'VTS', 'VTS', 'VTS', 'VTS', 'VTS', 'VTS', 'VTS', 'VTS', 'VTS', 'VTS', 'VTS', 'VTS', 'VTS', 'VTS', 'CMT', 'VTS', 'VTS', 'VTS', 'CMT', 'CMT', 'CMT', 'CMT', 'CMT', 'DDS', 'DDS', 'CMT', 'CMT', 'VTS', 'VTS', 'CMT', 'CMT', 'DDS', 'CMT', 'CMT', 'CMT', 'CMT', 'CMT', 'CMT', 'DDS', 'CMT', 'VTS', 'CMT', 'CMT', 'CMT', 'CMT', 'CMT', 'DDS', 'CMT', 'CMT', 'CMT', 'CMT', 'CMT', 'CMT', 'CMT', 'CMT', 'DDS', 'CMT', 'CMT', 'CMT', 'CMT', 'CMT', 'CMT', 'CMT', 'CMT', 'CMT', 'CMT', 'CMT', 'DDS', 'CMT', 'CMT', 'CMT', 'CMT', 'CMT', 'CMT', 'VTS', 'CMT', 'CMT', 'CMT', 'CMT', 'VTS', 'CMT', 'CMT', 'CMT', 'CMT', 'CMT', 'CMT', 'CMT', 'CMT', 'VTS', 'CMT', 'CMT', 'VTS', 'CMT', 'CMT', 'CMT', 'CMT', 'CMT', 'CMT', 'CMT', 'CMT', 'CMT', 'CMT', 'CMT', 'CMT', 'CMT', 'DDS', 'CMT', 'CMT', 'CMT', 'CMT', 'CMT', 'CMT', 'CMT', 'CMT', 'VTS', 'CMT', 'DDS', 'CMT', 'CMT', 'CMT', 'CMT', 'DDS', 'CMT', 'CMT', 'CMT', 'CMT', 'CMT', 'CMT', 'CMT', 'DDS', 'CMT', 'CMT', 'DDS', 'CMT', 'CMT', 'CMT', 'CMT', 'CMT', 'CMT', 'CMT', 'CMT', 'CMT', 'CMT', 'CMT', 'CMT', 'CMT', 'CMT', 'CMT', 'CMT', 'CMT', 'CMT', 'CMT', 'CMT', 'CMT', 'VTS', 'CMT', 'VTS', 'CMT', 'CMT', 'CMT', 'CMT', 'CMT', 'VTS', 'CMT', 'CMT', 'CMT', 'VTS', 'CMT', 'VTS', 'CMT', 'CMT', 'CMT', 'DDS', 'CMT', 'CMT', 'CMT', 'CMT', 'CMT', 'CMT', 'CMT', 'CMT', 'CMT', 'CMT', 'CMT', 'DDS', 'CMT', 'CMT', 'CMT', 'DDS', 'CMT', 'CMT', 'CMT', 'CMT', 'VTS', 'VTS', 'CMT', 'CMT', 'CMT', 'CMT', 'CMT', 'CMT', 'CMT', 'CMT', 'CMT', 'VTS', 'VTS', 'VTS', 'VTS', 'VTS', 'DDS', 'VTS', 'VTS', 'VTS', 'VTS', 'VTS', 'VTS', 'VTS', 'VTS', 'VTS', 'VTS', 'VTS', 'VTS', 'VTS', 'VTS', 'VTS', 'VTS', 'VTS', 'VTS', 'VTS', 'VTS', 'VTS', 'VTS', 'VTS', 'VTS', 'VTS', 'VTS', 'VTS', 'VTS', 'VTS', 'VTS', 'VTS', 'VTS', 'VTS', 'VTS', 'VTS', 'VTS', 'VTS', 'VTS', 'VTS', 'VTS', 'VTS', 'VTS', 'VTS', 'VTS', 'VTS', 'VTS', 'VTS', 'CMT', 'CMT', 'VTS', 'DDS', 'VTS', 'CMT', 'CMT', 'CMT', 'DDS', 'CMT', 'CMT', 'DDS', 'CMT', 'VTS', 'CMT', 'CMT', 'CMT', 'CMT', 'DDS', 'VTS', 'CMT', 'DDS', 'VTS', 'VTS', 'VTS', 'CMT', 'CMT', 'CMT', 'VTS', 'VTS', 'CMT', 'CMT', 'CMT', 'VTS', 'CMT', 'CMT', 'VTS', 'CMT', 'CMT', 'CMT', 'CMT', 'VTS', 'CMT', 'CMT', 'VTS', 'CMT', 'VTS', 'CMT', 'CMT', 'CMT', 'CMT', 'DDS', 'CMT', 'CMT', 'CMT', 'CMT', 'CMT', 'CMT', 'CMT', 'CMT', 'CMT', 'CMT', 'CMT', 'CMT', 'CMT', 'CMT', 'CMT', 'CMT', 'CMT', 'CMT', 'CMT', 'VTS', 'CMT', 'CMT', 'CMT', 'DDS', 'VTS', 'CMT', 'CMT', 'CMT', 'CMT', 'CMT', 'CMT', 'CMT', 'CMT', 'CMT', 'CMT', 'DDS', 'VTS', 'CMT', 'CMT', 'CMT', 'CMT', 'VTS', 'CMT', 'CMT', 'CMT', 'VTS', 'CMT', 'CMT', 'CMT', 'VTS', 'CMT', 'CMT', 'DDS', 'CMT', 'CMT', 'VTS', 'CMT', 'CMT', 'CMT', 'CMT', 'CMT', 'CMT', 'CMT', 'DDS', 'DDS', 'CMT', 'CMT', 'DDS', 'VTS', 'CMT', 'VTS', 'CMT', 'CMT', 'CMT', 'CMT', 'CMT', 'DDS', 'CMT', 'DDS', 'DDS', 'CMT', 'CMT', 'CMT', 'CMT', 'CMT', 'CMT', 'CMT', 'CMT', 'CMT', 'CMT', 'CMT', 'CMT', 'VTS', 'CMT', 'DDS', 'CMT', 'CMT', 'CMT', 'VTS', 'CMT', 'CMT', 'CMT', 'VTS', 'CMT', 'CMT', 'CMT', 'CMT', 'CMT', 'DDS', 'CMT', 'CMT', 'CMT', 'CMT', 'VTS', 'CMT', 'CMT', 'CMT', 'CMT', 'DDS', 'CMT', 'CMT', 'CMT', 'CMT', 'CMT', 'VTS', 'CMT', 'CMT', 'CMT', 'CMT', 'CMT', 'CMT', 'CMT', 'DDS', 'CMT', 'CMT', 'CMT', 'CMT', 'CMT', 'CMT', 'CMT', 'CMT', 'CMT', 'CMT', 'CMT', 'DDS', 'CMT', 'CMT', 'CMT', 'DDS', 'CMT', 'CMT', 'VTS', 'VTS', 'VTS', 'VTS', 'VTS', 'VTS', 'VTS', 'VTS', 'CMT', 'VTS', 'VTS', 'VTS', 'VTS', 'VTS', 'VTS', 'VTS', 'VTS', 'VTS', 'VTS', 'VTS', 'VTS', 'VTS', 'VTS', 'VTS', 'VTS', 'VTS', 'VTS', 'VTS', 'VTS', 'VTS', 'VTS', 'CMT', 'VTS', 'VTS', 'VTS', 'VTS', 'VTS', 'VTS', 'VTS', 'VTS', 'VTS', 'VTS', 'VTS', 'VTS', 'VTS', 'VTS', 'VTS', 'VTS', 'DDS', 'CMT', 'VTS', 'VTS', 'VTS', 'VTS', 'VTS', 'VTS', 'VTS', 'VTS', 'VTS', 'VTS', 'CMT', 'CMT', 'VTS', 'VTS', 'CMT', 'CMT', 'CMT', 'CMT', 'CMT', 'DDS', 'CMT', 'CMT', 'CMT', 'CMT', 'DDS', 'CMT', 'CMT', 'CMT', 'CMT', 'CMT', 'CMT', 'CMT', 'CMT', 'VTS', 'CMT', 'CMT', 'CMT', 'CMT', 'CMT', 'CMT', 'CMT', 'CMT', 'CMT', 'CMT', 'CMT', 'CMT', 'DDS', 'VTS', 'CMT', 'CMT', 'VTS', 'CMT', 'VTS', 'CMT', 'VTS', 'DDS', 'CMT', 'CMT', 'CMT', 'DDS', 'CMT', 'DDS', 'CMT', 'CMT', 'DDS', 'CMT', 'VTS', 'CMT', 'CMT', 'CMT', 'VTS', 'CMT', 'CMT', 'CMT', 'CMT', 'VTS', 'CMT', 'CMT', 'CMT', 'CMT', 'CMT', 'CMT', 'CMT', 'CMT', 'CMT', 'CMT', 'CMT', 'CMT', 'CMT', 'DDS', 'CMT', 'VTS', 'CMT', 'VTS', 'CMT', 'CMT', 'CMT', 'CMT', 'CMT', 'CMT', 'VTS', 'VTS', 'CMT', 'CMT', 'VTS', 'CMT', 'CMT', 'CMT', 'CMT', 'CMT', 'CMT', 'VTS', 'CMT', 'CMT', 'CMT', 'CMT', 'CMT', 'CMT', 'VTS', 'DDS', 'CMT', 'CMT', 'DDS', 'CMT', 'CMT', 'CMT', 'VTS', 'CMT', 'CMT', 'CMT', 'DDS', 'CMT', 'DDS', 'CMT', 'CMT', 'CMT', 'CMT', 'CMT', 'CMT', 'DDS', 'VTS', 'CMT', 'DDS', 'CMT', 'CMT', 'CMT', 'VTS', 'DDS', 'CMT', 'VTS', 'CMT', 'CMT', 'VTS', 'CMT', 'CMT', 'CMT', 'CMT', 'CMT', 'CMT', 'CMT', 'CMT', 'CMT', 'DDS', 'DDS', 'CMT', 'DDS', 'CMT', 'CMT', 'CMT', 'DDS', 'VTS', 'DDS', 'CMT', 'CMT', 'VTS', 'CMT', 'VTS', 'CMT', 'CMT', 'VTS', 'VTS', 'CMT', 'CMT', 'CMT', 'VTS', 'CMT', 'CMT', 'DDS', 'CMT', 'VTS', 'CMT', 'CMT', 'CMT', 'CMT', 'CMT', 'VTS', 'CMT', 'CMT', 'CMT', 'CMT', 'CMT', 'VTS', 'CMT', 'CMT', 'CMT', 'CMT', 'DDS', 'CMT', 'VTS', 'CMT', 'CMT', 'VTS', 'CMT', 'DDS', 'CMT', 'CMT', 'VTS', 'VTS', 'VTS', 'VTS', 'VTS', 'VTS', 'VTS', 'VTS', 'VTS', 'VTS', 'VTS', 'VTS', 'VTS', 'VTS', 'VTS', 'VTS', 'VTS', 'VTS', 'VTS', 'VTS', 'VTS', 'VTS', 'VTS', 'VTS', 'VTS', 'VTS', 'VTS', 'VTS', 'VTS', 'VTS', 'VTS', 'VTS', 'VTS', 'VTS', 'VTS', 'VTS', 'VTS', 'VTS', 'VTS', 'VTS', 'VTS', 'VTS', 'VTS', 'VTS', 'VTS', 'VTS', 'VTS', 'VTS', 'VTS', 'VTS', 'VTS', 'VTS', 'VTS', 'VTS', 'VTS', 'VTS', 'VTS', 'VTS', 'VTS', 'VTS', 'VTS', 'VTS', 'VTS', 'VTS', 'VTS', 'VTS', 'VTS', 'VTS', 'VTS', 'CMT', 'CMT', 'CMT', 'DDS', 'CMT', 'CMT', 'CMT', 'VTS', 'CMT', 'CMT', 'CMT', 'CMT', 'CMT', 'CMT', 'CMT', 'CMT', 'CMT', 'CMT', 'CMT', 'VTS', 'DDS', 'CMT', 'CMT', 'CMT', 'CMT', 'CMT', 'CMT', 'CMT', 'VTS', 'CMT', 'CMT', 'VTS', 'CMT', 'CMT', 'CMT', 'VTS', 'DDS', 'CMT', 'VTS', 'VTS', 'CMT', 'CMT', 'DDS', 'CMT', 'CMT', 'CMT', 'CMT', 'VTS', 'VTS', 'CMT', 'CMT', 'DDS', 'CMT', 'CMT', 'CMT', 'CMT', 'CMT', 'CMT', 'CMT', 'CMT', 'VTS', 'VTS', 'CMT', 'CMT', 'VTS', 'CMT', 'CMT', 'CMT', 'VTS', 'DDS', 'CMT', 'CMT', 'CMT', 'CMT', 'CMT', 'CMT', 'VTS', 'CMT', 'DDS', 'CMT', 'DDS', 'CMT', 'CMT', 'CMT', 'CMT', 'CMT', 'DDS', 'CMT', 'VTS', 'CMT', 'CMT', 'CMT', 'VTS', 'CMT', 'CMT', 'CMT', 'CMT', 'CMT', 'VTS', 'CMT', 'CMT', 'CMT', 'CMT', 'CMT', 'CMT', 'CMT', 'CMT', 'CMT', 'CMT', 'CMT', 'DDS', 'CMT', 'CMT', 'CMT', 'CMT', 'CMT', 'CMT', 'VTS', 'CMT', 'CMT', 'VTS', 'VTS', 'DDS', 'CMT', 'CMT', 'VTS', 'VTS', 'CMT', 'CMT', 'VTS', 'VTS', 'VTS', 'CMT', 'CMT', 'DDS', 'CMT', 'VTS', 'VTS', 'CMT', 'CMT', 'CMT', 'VTS', 'CMT', 'CMT', 'CMT', 'VTS', 'CMT', 'CMT', 'CMT', 'CMT', 'CMT', 'CMT', 'VTS', 'CMT', 'CMT', 'CMT', 'CMT', 'CMT', 'CMT', 'VTS', 'VTS', 'CMT', 'CMT', 'CMT', 'VTS', 'VTS', 'DDS', 'CMT', 'CMT', 'CMT', 'DDS', 'VTS', 'CMT', 'CMT', 'CMT', 'VTS', 'VTS', 'CMT', 'VTS', 'VTS', 'DDS', 'DDS', 'VTS', 'CMT', 'CMT', 'CMT', 'CMT', 'CMT', 'CMT', 'CMT', 'CMT', 'CMT', 'CMT', 'VTS', 'CMT', 'CMT', 'VTS', 'DDS', 'CMT', 'CMT', 'CMT', 'CMT', 'DDS', 'DDS', 'CMT', 'VTS', 'CMT', 'CMT', 'CMT', 'CMT', 'CMT', 'CMT', 'VTS', 'CMT', 'CMT', 'VTS', 'CMT', 'CMT', 'CMT', 'DDS', 'DDS', 'CMT', 'CMT', 'CMT', 'CMT', 'DDS', 'CMT', 'CMT', 'CMT', 'CMT', 'CMT', 'DDS', 'CMT', 'CMT', 'CMT', 'CMT', 'CMT', 'CMT', 'CMT', 'VTS', 'CMT', 'CMT', 'CMT', 'VTS', 'DDS', 'CMT', 'CMT', 'CMT', 'CMT', 'CMT', 'VTS', 'DDS', 'CMT', 'VTS', 'CMT', 'CMT', 'CMT', 'CMT', 'DDS', 'CMT', 'VTS', 'VTS', 'VTS', 'VTS', 'VTS', 'VTS', 'VTS', 'VTS', 'VTS', 'VTS', 'VTS', 'VTS', 'VTS', 'VTS', 'VTS', 'VTS', 'VTS', 'VTS', 'VTS', 'VTS', 'VTS', 'VTS', 'VTS', 'VTS', 'VTS', 'VTS', 'VTS', 'VTS', 'VTS', 'VTS', 'VTS', 'VTS', 'VTS', 'VTS', 'VTS', 'VTS', 'VTS', 'VTS', 'VTS', 'VTS', 'VTS', 'CMT', 'VTS', 'VTS', 'VTS', 'VTS', 'VTS', 'VTS', 'VTS', 'VTS', 'VTS', 'VTS', 'VTS', 'VTS', 'VTS', 'VTS', 'VTS', 'VTS', 'VTS', 'VTS', 'VTS', 'VTS', 'VTS', 'VTS', 'VTS', 'VTS', 'VTS', 'VTS', 'VTS', 'VTS', 'VTS', 'VTS', 'VTS', 'VTS', 'VTS', 'VTS', 'VTS', 'VTS', 'VTS', 'VTS', 'VTS', 'VTS', 'VTS', 'VTS', 'VTS', 'VTS', 'VTS', 'VTS', 'VTS', 'VTS', 'VTS', 'VTS', 'VTS', 'DDS', 'VTS', 'VTS', 'VTS', 'VTS', 'VTS', 'VTS', 'VTS', 'VTS', 'CMT', 'CMT', 'DDS', 'DDS', 'CMT', 'CMT', 'VTS', 'CMT', 'CMT', 'VTS', 'CMT', 'CMT', 'CMT', 'VTS', 'CMT', 'CMT', 'CMT', 'CMT', 'CMT', 'CMT', 'CMT', 'CMT', 'VTS', 'CMT', 'CMT', 'CMT', 'CMT', 'CMT', 'VTS', 'CMT', 'CMT', 'CMT', 'VTS', 'CMT', 'CMT', 'CMT', 'CMT', 'VTS', 'VTS', 'CMT', 'CMT', 'CMT', 'CMT', 'VTS', 'VTS', 'CMT', 'CMT', 'CMT', 'VTS', 'CMT', 'CMT', 'VTS', 'CMT', 'CMT', 'DDS', 'VTS', 'CMT', 'VTS', 'DDS', 'CMT', 'DDS', 'CMT', 'VTS', 'CMT', 'VTS', 'CMT', 'CMT', 'DDS', 'CMT', 'CMT', 'CMT', 'VTS', 'DDS', 'DDS', 'DDS', 'CMT', 'DDS', 'CMT', 'CMT', 'DDS', 'CMT', 'CMT', 'VTS', 'CMT', 'CMT', 'CMT', 'CMT', 'DDS', 'CMT', 'CMT', 'VTS', 'CMT', 'CMT', 'CMT', 'CMT', 'CMT', 'VTS', 'CMT', 'CMT', 'CMT', 'CMT', 'CMT', 'CMT', 'CMT', 'CMT', 'CMT', 'CMT', 'DDS', 'CMT', 'CMT', 'CMT', 'CMT', 'DDS', 'CMT', 'DDS', 'CMT', 'CMT', 'CMT', 'CMT', 'CMT', 'CMT', 'CMT', 'CMT', 'CMT', 'CMT', 'CMT', 'CMT', 'CMT', 'CMT', 'VTS', 'CMT', 'CMT', 'CMT', 'VTS', 'DDS', 'DDS', 'CMT', 'CMT', 'CMT', 'CMT', 'CMT', 'CMT', 'CMT', 'CMT', 'VTS', 'VTS', 'CMT', 'CMT', 'CMT', 'CMT', 'CMT', 'CMT', 'CMT', 'VTS', 'DDS', 'VTS', 'CMT', 'CMT', 'CMT', 'CMT', 'CMT', 'CMT', 'CMT', 'CMT', 'CMT', 'DDS', 'CMT', 'DDS', 'VTS', 'CMT', 'CMT', 'CMT', 'CMT', 'CMT', 'CMT', 'CMT', 'CMT', 'CMT', 'CMT', 'DDS', 'CMT', 'CMT', 'CMT', 'CMT', 'CMT', 'CMT', 'VTS', 'DDS', 'VTS', 'CMT', 'CMT', 'CMT', 'VTS', 'CMT', 'CMT', 'DDS', 'CMT', 'VTS', 'CMT', 'CMT', 'DDS', 'CMT', 'CMT', 'CMT', 'CMT', 'CMT', 'VTS', 'CMT', 'CMT', 'CMT', 'VTS', 'CMT', 'VTS', 'CMT', 'CMT', 'VTS', 'CMT', 'CMT', 'CMT', 'CMT', 'CMT', 'VTS', 'CMT', 'CMT', 'CMT', 'VTS', 'VTS', 'CMT', 'CMT', 'CMT', 'VTS', 'CMT', 'VTS', 'VTS', 'VTS', 'CMT', 'CMT', 'CMT', 'CMT', 'CMT', 'CMT', 'CMT', 'CMT', 'VTS', 'VTS', 'VTS', 'VTS', 'VTS', 'VTS', 'VTS', 'VTS', 'VTS', 'VTS', 'VTS', 'VTS', 'VTS', 'VTS', 'VTS', 'VTS', 'VTS', 'VTS', 'VTS', 'VTS', 'VTS', 'VTS', 'VTS', 'VTS', 'VTS', 'VTS', 'VTS', 'VTS', 'VTS', 'VTS', 'VTS', 'VTS', 'VTS', 'VTS', 'VTS', 'VTS', 'VTS', 'VTS', 'VTS', 'VTS', 'VTS', 'VTS', 'VTS', 'VTS', 'VTS', 'VTS', 'VTS', 'VTS', 'VTS', 'VTS', 'VTS', 'VTS', 'VTS', 'VTS', 'VTS', 'VTS', 'VTS', 'VTS', 'VTS', 'VTS', 'VTS', 'VTS', 'VTS', 'VTS', 'VTS', 'VTS', 'VTS', 'VTS', 'VTS', 'VTS', 'VTS', 'VTS', 'VTS', 'VTS', 'CMT', 'VTS', 'DDS', 'DDS', 'CMT', 'CMT', 'VTS', 'CMT', 'CMT', 'CMT', 'CMT', 'DDS', 'CMT', 'CMT', 'CMT', 'CMT', 'CMT', 'CMT', 'CMT', 'CMT', 'CMT', 'CMT', 'CMT', 'CMT', 'VTS', 'CMT', 'CMT', 'CMT', 'CMT', 'VTS', 'CMT', 'CMT', 'CMT', 'CMT', 'CMT', 'CMT', 'CMT', 'CMT', 'CMT', 'VTS', 'CMT', 'CMT', 'CMT', 'CMT', 'CMT', 'CMT', 'VTS', 'CMT', 'CMT', 'CMT', 'CMT', 'CMT', 'VTS', 'CMT', 'VTS', 'DDS', 'CMT', 'DDS', 'VTS', 'CMT', 'VTS', 'CMT', 'VTS', 'DDS', 'CMT', 'VTS', 'CMT', 'VTS', 'DDS', 'VTS', 'CMT', 'CMT', 'DDS', 'CMT', 'CMT', 'VTS', 'CMT', 'VTS', 'CMT', 'VTS', 'CMT', 'VTS', 'CMT', 'CMT', 'CMT', 'CMT', 'CMT', 'CMT', 'CMT', 'CMT', 'DDS', 'CMT', 'CMT', 'VTS', 'VTS', 'CMT', 'DDS', 'CMT', 'CMT', 'CMT', 'DDS', 'CMT', 'VTS', 'DDS', 'CMT', 'VTS', 'CMT', 'CMT', 'CMT', 'VTS', 'CMT', 'DDS', 'CMT', 'CMT', 'VTS', 'VTS', 'CMT', 'VTS', 'DDS', 'CMT', 'CMT', 'CMT', 'CMT', 'CMT', 'CMT', 'CMT', 'VTS', 'VTS', 'CMT', 'VTS', 'CMT', 'CMT', 'CMT', 'VTS', 'CMT', 'CMT', 'CMT', 'CMT', 'VTS', 'CMT', 'CMT', 'CMT', 'CMT', 'CMT', 'CMT', 'VTS', 'VTS', 'CMT', 'CMT', 'CMT', 'DDS', 'VTS', 'CMT', 'CMT', 'CMT', 'CMT', 'CMT', 'CMT', 'VTS', 'VTS', 'CMT', 'VTS', 'VTS', 'VTS', 'CMT', 'VTS', 'CMT', 'CMT', 'CMT', 'CMT', 'VTS', 'CMT', 'CMT', 'CMT', 'CMT', 'CMT', 'CMT', 'CMT', 'CMT', 'CMT', 'CMT', 'DDS', 'CMT', 'CMT', 'CMT', 'CMT', 'CMT', 'VTS', 'CMT', 'CMT', 'VTS', 'CMT', 'CMT', 'CMT', 'VTS', 'CMT', 'VTS', 'CMT', 'CMT', 'CMT', 'CMT', 'CMT', 'CMT', 'CMT', 'CMT', 'CMT', 'CMT', 'CMT', 'VTS', 'CMT', 'DDS', 'VTS', 'CMT', 'CMT', 'VTS', 'CMT', 'CMT', 'VTS', 'VTS', 'CMT', 'VTS', 'DDS', 'VTS', 'CMT', 'VTS', 'CMT', 'CMT', 'VTS', 'CMT', 'CMT', 'CMT', 'VTS', 'CMT', 'CMT', 'VTS', 'DDS', 'CMT', 'CMT', 'CMT', 'CMT', 'CMT', 'CMT', 'VTS', 'CMT', 'CMT', 'CMT', 'CMT', 'CMT', 'VTS', 'CMT', 'CMT', 'CMT', 'CMT', 'CMT', 'VTS', 'VTS', 'CMT', 'VTS', 'VTS', 'VTS', 'VTS', 'VTS', 'VTS', 'VTS', 'VTS', 'VTS', 'VTS', 'VTS', 'VTS', 'VTS', 'VTS', 'VTS', 'VTS', 'VTS', 'VTS', 'VTS', 'VTS', 'VTS', 'VTS', 'VTS', 'VTS', 'VTS', 'VTS', 'VTS', 'VTS', 'VTS', 'VTS', 'VTS', 'VTS', 'VTS', 'VTS', 'VTS', 'VTS', 'VTS', 'VTS', 'VTS', 'VTS', 'VTS', 'VTS', 'VTS', 'VTS', 'VTS', 'VTS', 'VTS', 'VTS', 'VTS', 'VTS', 'VTS', 'VTS', 'VTS', 'VTS', 'VTS', 'DDS', 'VTS', 'VTS', 'VTS', 'VTS', 'VTS', 'VTS', 'VTS', 'VTS', 'VTS', 'VTS', 'VTS', 'VTS', 'VTS', 'VTS', 'VTS', 'VTS', 'VTS', 'VTS', 'VTS', 'VTS', 'VTS', 'VTS', 'VTS', 'VTS', 'VTS', 'VTS', 'VTS', 'VTS', 'VTS', 'VTS', 'VTS', 'VTS', 'VTS', 'VTS', 'VTS', 'VTS', 'VTS', 'VTS', 'VTS', 'VTS', 'VTS', 'VTS', 'VTS', 'VTS', 'VTS', 'VTS', 'VTS', 'VTS', 'VTS', 'VTS', 'VTS', 'VTS', 'VTS', 'VTS', 'VTS', 'CMT', 'CMT', 'CMT', 'CMT', 'VTS', 'VTS', 'CMT', 'CMT', 'DDS', 'CMT', 'CMT', 'CMT', 'DDS', 'VTS', 'DDS', 'DDS', 'CMT', 'CMT', 'VTS', 'CMT', 'CMT', 'VTS', 'CMT', 'CMT', 'CMT', 'CMT', 'VTS', 'VTS', 'VTS', 'CMT', 'VTS', 'CMT', 'CMT', 'VTS', 'VTS', 'CMT', 'CMT', 'CMT', 'DDS', 'CMT', 'CMT', 'DDS', 'CMT', 'VTS', 'CMT', 'CMT', 'VTS', 'CMT', 'VTS', 'CMT', 'CMT', 'VTS', 'CMT', 'CMT', 'CMT', 'VTS', 'CMT', 'CMT', 'VTS', 'DDS', 'CMT', 'CMT', 'VTS', 'CMT', 'CMT', 'CMT', 'CMT', 'DDS', 'VTS', 'VTS', 'CMT', 'VTS', 'CMT', 'CMT', 'CMT', 'DDS', 'DDS', 'CMT', 'VTS', 'CMT', 'CMT', 'DDS', 'VTS', 'CMT', 'CMT', 'VTS', 'VTS', 'VTS', 'VTS', 'CMT', 'CMT', 'CMT', 'VTS', 'CMT', 'CMT', 'CMT', 'CMT', 'CMT', 'CMT', 'VTS', 'CMT', 'CMT', 'VTS', 'CMT', 'CMT', 'VTS', 'CMT', 'CMT', 'CMT', 'VTS', 'CMT', 'CMT', 'CMT', 'CMT', 'CMT', 'CMT', 'CMT', 'CMT', 'VTS', 'CMT', 'CMT', 'CMT', 'CMT', 'CMT', 'VTS', 'VTS', 'CMT', 'VTS', 'CMT', 'VTS', 'VTS', 'CMT', 'CMT', 'CMT', 'CMT', 'CMT', 'CMT', 'CMT', 'CMT', 'CMT', 'DDS', 'DDS', 'VTS', 'CMT', 'CMT', 'CMT', 'CMT', 'CMT', 'VTS', 'CMT', 'VTS', 'DDS', 'CMT', 'CMT', 'CMT', 'CMT', 'CMT', 'CMT', 'VTS', 'CMT', 'CMT', 'CMT', 'VTS', 'CMT', 'CMT', 'DDS', 'VTS', 'CMT', 'VTS', 'VTS', 'DDS', 'VTS', 'CMT', 'CMT', 'CMT', 'CMT', 'CMT', 'CMT', 'CMT', 'VTS', 'CMT', 'CMT', 'CMT', 'VTS', 'DDS', 'CMT', 'CMT', 'VTS', 'CMT', 'CMT', 'CMT', 'VTS', 'DDS', 'VTS', 'CMT', 'CMT', 'VTS', 'CMT', 'VTS', 'VTS', 'CMT', 'VTS', 'CMT', 'CMT', 'VTS', 'CMT', 'VTS', 'CMT', 'VTS', 'CMT', 'CMT', 'CMT', 'VTS', 'VTS', 'VTS', 'CMT', 'VTS', 'CMT', 'CMT', 'CMT', 'CMT', 'CMT', 'CMT', 'CMT', 'CMT', 'CMT', 'CMT', 'CMT', 'CMT', 'VTS', 'CMT', 'CMT', 'CMT', 'VTS', 'VTS', 'DDS', 'CMT', 'CMT', 'CMT', 'CMT', 'VTS', 'CMT', 'CMT', 'VTS', 'CMT', 'CMT', 'CMT', 'DDS', 'CMT', 'CMT', 'CMT', 'DDS', 'CMT', 'CMT', 'VTS', 'CMT', 'CMT', 'DDS', 'CMT', 'DDS', 'CMT', 'VTS', 'CMT', 'CMT', 'DDS', 'CMT', 'CMT', 'CMT', 'VTS', 'CMT', 'CMT', 'CMT', 'CMT', 'CMT', 'CMT', 'VTS', 'VTS', 'VTS', 'VTS', 'VTS']\n"
     ]
    }
   ],
   "source": [
    "\n",
    "print(data['vendor_id'])\n",
    "print(list(data['vendor_id']))"
   ]
  },
  {
   "cell_type": "code",
   "execution_count": 89,
   "metadata": {},
   "outputs": [
    {
     "name": "stdout",
     "output_type": "stream",
     "text": [
      "Average Passenger Count: 1.7942647549183062\n",
      "Average Trip Time (secs): 12.225108369456487\n",
      "Average Trip Distance: 3.0678859619873293\n"
     ]
    }
   ],
   "source": [
    "# compute the average values\n",
    "avg_passenger_count = data[\"passenger_count\"].mean()\n",
    "avg_trip_time = data[\"trip_time_in_secs\"].mean()\n",
    "avg_trip_distance = data[\"trip_distance\"].mean()\n",
    "\n",
    "print(f\"Average Passenger Count: {avg_passenger_count}\")\n",
    "print(f\"Average Trip Time (secs): {avg_trip_time}\")\n",
    "print(f\"Average Trip Distance: {avg_trip_distance}\")\n"
   ]
  },
  {
   "cell_type": "markdown",
   "metadata": {},
   "source": [
    "#### Create two histograms:\n",
    "- One showing the distributation of trip time in seconds\n",
    "- The other showing the distribution of trip distance. \n",
    "\n",
    "Make sure you label the axes and give the histograms titles. This may also be accomplished using functionality within the Pandas package (examples can be found [here](https://sparkbyexamples.com/pandas/pandas-plot-a-histogram/)), but it can also be done using ```matplotlib.pyplot```, as you have seen before."
   ]
  },
  {
   "cell_type": "code",
   "execution_count": 90,
   "metadata": {},
   "outputs": [
    {
     "data": {
      "image/png": "[encoded data removed]",
      "text/plain": [
       "<Figure size 1200x500 with 2 Axes>"
      ]
     },
     "metadata": {},
     "output_type": "display_data"
    }
   ],
   "source": [
    "import matplotlib.pyplot as plt\n",
    "df = pd.DataFrame(data)\n",
    "\n",
    "# Plotting the histogram for trip time in seconds\n",
    "plt.figure(figsize=(12, 5))\n",
    "\n",
    "plt.subplot(1, 2, 1)\n",
    "plt.hist(df['trip_time_in_secs'], bins=10, color='blue', edgecolor='black')\n",
    "plt.title('Distribution of Trip Time in Seconds')\n",
    "plt.xlabel('Trip Time (seconds)')\n",
    "plt.ylabel('Frequency')\n",
    "\n",
    "# Plotting the histogram for trip distance\n",
    "plt.subplot(1, 2, 2)\n",
    "plt.hist(df['trip_distance'], bins=10, color='green', edgecolor='black')\n",
    "plt.title('Distribution of Trip Distance')\n",
    "plt.xlabel('Trip Distance (miles)')\n",
    "plt.ylabel('Frequency')\n",
    "\n",
    "plt.tight_layout()\n",
    "plt.show()\n",
    " "
   ]
  },
  {
   "cell_type": "markdown",
   "metadata": {},
   "source": [
    "## Reading Assignment"
   ]
  },
  {
   "cell_type": "markdown",
   "metadata": {},
   "source": [
    "#### Read 'Python naming conventions'(https://visualgit.readthedocs.io/en/latest/pages/naming_convention.html) and give a example name of a Python function and a constant."
   ]
  },
  {
   "cell_type": "code",
   "execution_count": 91,
   "metadata": {},
   "outputs": [
    {
     "ename": "NameError",
     "evalue": "name 'mypackage' is not defined",
     "output_type": "error",
     "traceback": [
      "\u001b[0;31m---------------------------------------------------------------------------\u001b[0m",
      "\u001b[0;31mNameError\u001b[0m                                 Traceback (most recent call last)",
      "Cell \u001b[0;32mIn[91], line 10\u001b[0m\n\u001b[1;32m      7\u001b[0m PI\u001b[38;5;241m=\u001b[39m\u001b[38;5;241m3.14159\u001b[39m  \u001b[38;5;66;03m# constant name should be fully capitalized\u001b[39;00m\n\u001b[1;32m      9\u001b[0m \u001b[38;5;66;03m# a package\u001b[39;00m\n\u001b[0;32m---> 10\u001b[0m \u001b[43mmypackage\u001b[49m  \u001b[38;5;66;03m# package name should be all lower case\u001b[39;00m\n",
      "\u001b[0;31mNameError\u001b[0m: name 'mypackage' is not defined"
     ]
    }
   ],
   "source": [
    "# a function\n",
    "def area_of_circle(radius):   #Function names should be all lower case and Words in a function name should be separated by an underscore\n",
    "    PI = 3.14159\n",
    "    return PI * radius**2\n",
    "\n",
    "# a constant\n",
    "PI=3.14159  # constant name should be fully capitalized\n",
    "\n",
    "# a package\n",
    "mypackage  # package name should be all lower case\n"
   ]
  },
  {
   "cell_type": "markdown",
   "metadata": {},
   "source": [
    "#### Describe a [*magic number*](https://goo.gl/nYMuuG) and the benefits of avoiding 'Unnamed numerical constants' in your code."
   ]
  },
  {
   "cell_type": "markdown",
   "metadata": {},
   "source": [
    "**Answer here**"
   ]
  },
  {
   "cell_type": "markdown",
   "metadata": {},
   "source": [
    "A magic number is an unnamed numerical constant that appears in code without explanation. It can make the code difficult to read, understand, and maintain. It’s called “magic” because its meaning isn’t clear in the code and it just seems to appear out of nowhere.\n",
    "\n",
    "\n",
    "Benefits of Avoiding Unnamed Numerical Constants in the Code\n",
    "\n",
    "1. Improves readability\n",
    "Named constants make the code easier to understand. Developers can quickly recognize the meaning of a value, eliminating the need for additional explanations.\n",
    "\n",
    "2. Easy to Update\n",
    "When a numerical value changes, updating a single constant is far easier than searching for and replacing multiple occurrences in the code. This reduces the risk of missing an update in one part of the program.\n",
    "\n",
    "3. Reduces the Risk of Errors\n",
    "Magic numbers can easily lead to mistakes. If the same number is used for different purposes or is incorrectly updated, it can cause logic errors. Named constants make the value’s purpose clear, reducing the chance of incorrect usage.\n",
    "\n",
    "4. Easier Debugging\n",
    " Debugging becomes simpler when magic numbers are avoided. Constants explicitly describe their purpose, so the problem can be easily understood. \n",
    "\n"
   ]
  },
  {
   "cell_type": "markdown",
   "metadata": {},
   "source": [
    "#### <font color=red> Check your previous code in this notebook to make sure there is no magic number and the naming follows the convention.</font>"
   ]
  },
  {
   "cell_type": "markdown",
   "metadata": {},
   "source": [
    "#### If you want to know more about Python coding styles, read [\"Code Style\" from \"A Hitchhiker's Guide to Python\"](https://docs.python-guide.org/writing/style/). You don't need to follow every detail on the first pass, but it will serve as a useful reference throughout the semester as your base coding improves."
   ]
  },
  {
   "cell_type": "code",
   "execution_count": null,
   "metadata": {},
   "outputs": [],
   "source": []
  },
  {
   "cell_type": "markdown",
   "metadata": {},
   "source": [
    "## Check Your Work\n",
    "#### <font color=red> Make sure you restart the Python kernel and run all of your cells to ensure that the entire notebook executes through without error. This can be done by clicking 'Kernel' and then 'Restart & Run All'. </font> This is the first step in how your homework will be checked."
   ]
  }
 ],
 "metadata": {
  "kernelspec": {
   "display_name": "Python 3",
   "language": "python",
   "name": "python3"
  },
  "language_info": {
   "codemirror_mode": {
    "name": "ipython",
    "version": 3
   },
   "file_extension": ".py",
   "mimetype": "text/x-python",
   "name": "python",
   "nbconvert_exporter": "python",
   "pygments_lexer": "ipython3",
   "version": "3.8.20"
  }
 },
 "nbformat": 4,
 "nbformat_minor": 2
}
